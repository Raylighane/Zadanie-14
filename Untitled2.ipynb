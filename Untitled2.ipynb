{
 "cells": [
  {
   "cell_type": "code",
   "execution_count": null,
   "metadata": {},
   "outputs": [],
   "source": [
    "import numpy as np\n",
    "import matplotlib.pyplot as plt\n",
    "import pandas as pd\n",
    "import aseegg as ag\n",
    "\n",
    "dane = pd.read_csv(r\"sub1trial16.csv\", delimiter=',', engine='python')\n",
    "\n",
    "t = np.linspace (0, 37.92, 200*37.92)\n",
    "prob=200\n",
    "sygnal = dane['kol2']\n",
    "\n",
    "przefiltrowany = ag.pasmowozaporowy(sygnal, prob, 49, 51)\n",
    "przefiltrowany = ag.pasmowoprzepustowy(przefiltrowany, prob, 1, 50)\n",
    "\n",
    "plt.plot(t, sygnal)\n",
    "plt.xlabel(\"Czas [s]\")\n",
    "plt.ylabel(\"Amplituda [-]\")\n",
    "plt.plot(przefiltrowany)\n",
    "plt.show()"
   ]
  }
 ],
 "metadata": {
  "kernelspec": {
   "display_name": "Python 3",
   "language": "python",
   "name": "python3"
  },
  "language_info": {
   "codemirror_mode": {
    "name": "ipython",
    "version": 3
   },
   "file_extension": ".py",
   "mimetype": "text/x-python",
   "name": "python",
   "nbconvert_exporter": "python",
   "pygments_lexer": "ipython3",
   "version": "3.6.0"
  }
 },
 "nbformat": 4,
 "nbformat_minor": 2
}
